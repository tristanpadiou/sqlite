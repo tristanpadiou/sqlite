{
 "cells": [
  {
   "cell_type": "code",
   "execution_count": 2,
   "id": "b79c765d",
   "metadata": {},
   "outputs": [],
   "source": [
    "import sqlite3\n",
    "import csv"
   ]
  },
  {
   "cell_type": "code",
   "execution_count": 3,
   "id": "62e19702",
   "metadata": {},
   "outputs": [],
   "source": [
    "conn=sqlite3.connect('data/db/my_database.db')\n"
   ]
  },
  {
   "cell_type": "code",
   "execution_count": 3,
   "id": "e1e88445",
   "metadata": {},
   "outputs": [],
   "source": [
    "cursor=conn.cursor()"
   ]
  },
  {
   "cell_type": "code",
   "execution_count": 4,
   "id": "8d0d2c7b",
   "metadata": {},
   "outputs": [],
   "source": [
    "# cursor.execute(\"\"\"CREATE TABLE cheese_production (\n",
    "# Year INTEGER,\n",
    "# Period TEXT,\n",
    "# Geo_Level TEXT,\n",
    "# State_ANSI INTEGER,\n",
    "# Commodity_ID INTEGER,\n",
    "# Domain TEXT,\n",
    "# Value INTEGER\n",
    "# );\"\"\")\n",
    "\n",
    "\n",
    "# cursor.execute(\"\"\"CREATE TABLE honey_production (\n",
    "# Year INTEGER,\n",
    "# Geo_Level TEXT,\n",
    "# State_ANSI INTEGER,\n",
    "# Commodity_ID INTEGER,\n",
    "# Value INTEGER\n",
    "# );\"\"\")\n",
    "\n",
    "\n",
    "# cursor.execute(\"\"\"CREATE TABLE milk_production (\n",
    "# Year INTEGER,\n",
    "# Period TEXT,\n",
    "# Geo_Level TEXT,\n",
    "# State_ANSI INTEGER,\n",
    "# Commodity_ID INTEGER,\n",
    "# Domain TEXT,\n",
    "# Value INTEGER\n",
    "# );\"\"\")\n",
    "\n",
    "\n",
    "# cursor.execute(\"\"\"CREATE TABLE coffee_production (\n",
    "# Year INTEGER,\n",
    "# Period TEXT,\n",
    "# Geo_Level TEXT,\n",
    "# State_ANSI INTEGER,\n",
    "# Commodity_ID INTEGER,\n",
    "# Value INTEGER\n",
    "# );\"\"\")\n",
    "\n",
    "\n",
    "# cursor.execute(\"\"\"CREATE TABLE egg_production (\n",
    "# Year INTEGER,\n",
    "# Period TEXT,\n",
    "# Geo_Level TEXT,\n",
    "# State_ANSI INTEGER,\n",
    "# Commodity_ID INTEGER,\n",
    "# Value INTEGER\n",
    "# );\"\"\")\n",
    "\n",
    "\n",
    "# cursor.execute(\"\"\"CREATE TABLE state_lookup (\n",
    "# State TEXT,\n",
    "# State_ANSI INTEGER\n",
    "# );\"\"\")\n",
    "\n",
    "\n",
    "# cursor.execute(\"\"\"CREATE TABLE yogurt_production (\n",
    "# Year INTEGER,\n",
    "# Period TEXT,\n",
    "# Geo_Level TEXT,\n",
    "# State_ANSI INTEGER,\n",
    "# Commodity_ID INTEGER,\n",
    "# Domain TEXT,\n",
    "# Value INTEGER\n",
    "# );\"\"\")\n",
    "\n",
    "# conn.commit()"
   ]
  },
  {
   "cell_type": "code",
   "execution_count": null,
   "id": "c80c457d",
   "metadata": {},
   "outputs": [],
   "source": [
    "# table_names = ['cheese_production', 'honey_production', 'milk_production', 'coffee_production', 'egg_production', 'yogurt_production','state_lookup']\n",
    "\n",
    "# for table_name in table_names:\n",
    "#     with open(f'{table_name}.csv', 'r') as file:\n",
    "#         csv_reader = csv.reader(file)\n",
    "#         header = next(csv_reader) # Skip header row if present\n",
    "#         data_to_insert = []\n",
    "#         for row in csv_reader:\n",
    "#             data_to_insert.append(row)\n",
    "#         placeholders = ', '.join(['?' for _ in header])\n",
    "#         insert_sql = f\"INSERT INTO {table_name} VALUES ({placeholders})\"\n",
    "#         cursor.executemany(insert_sql, data_to_insert)\n",
    "#         conn.commit()"
   ]
  },
  {
   "cell_type": "code",
   "execution_count": null,
   "id": "4529d442",
   "metadata": {},
   "outputs": [],
   "source": [
    "# table_names = ['cheese_production', 'honey_production', 'milk_production', 'coffee_production', 'egg_production', 'yogurt_production']\n",
    "# for table_name in table_names:\n",
    "#     cursor.execute(f\"UPDATE {table_name} SET value = REPLACE(value, ',', '')\")\n",
    "\n",
    "# conn.commit()"
   ]
  },
  {
   "cell_type": "code",
   "execution_count": 44,
   "id": "41766c1a",
   "metadata": {},
   "outputs": [
    {
     "data": {
      "text/plain": [
       "[(1,)]"
      ]
     },
     "execution_count": 44,
     "metadata": {},
     "output_type": "execute_result"
    }
   ],
   "source": [
    "cursor.execute(\"SELECT State_ANSI from (SELECT h.State_ANSI FROM honey_production as h, milk_production as m WHERE h.Year=2022 AND m.Year=2022 AND h.State_ANSI=m.State_ANSI) as a where a.State_ANSI=1;\")\n",
    "table= cursor.fetchall()\n",
    "table"
   ]
  },
  {
   "cell_type": "code",
   "execution_count": 49,
   "id": "7c12313e",
   "metadata": {},
   "outputs": [
    {
     "data": {
      "text/plain": [
       "[(15224235000,)]"
      ]
     },
     "execution_count": 49,
     "metadata": {},
     "output_type": "execute_result"
    }
   ],
   "source": [
    "cursor.execute(\"SELECT SUM(y.Value) FROM yogurt_production as y, cheese_production as c WHERE y.Year=2022 AND c.Year=2022 AND y.State_ANSI=c.State_ANSI;\")\n",
    "table= cursor.fetchall()\n",
    "table"
   ]
  },
  {
   "cell_type": "code",
   "execution_count": 74,
   "id": "3f02c12d",
   "metadata": {},
   "outputs": [
    {
     "data": {
      "text/plain": [
       "[(91812000000,)]"
      ]
     },
     "execution_count": 74,
     "metadata": {},
     "output_type": "execute_result"
    }
   ],
   "source": [
    "cursor.execute(\"SELECT SUM(Value) FROM milk_production WHERE Year=2023;\")\n",
    "table= cursor.fetchall()\n",
    "table"
   ]
  },
  {
   "cell_type": "code",
   "execution_count": 54,
   "id": "f4b0230a",
   "metadata": {},
   "outputs": [
    {
     "data": {
      "text/plain": [
       "[(6, 208807000), ('', 215206000), (55, 289699000)]"
      ]
     },
     "execution_count": 54,
     "metadata": {},
     "output_type": "execute_result"
    }
   ],
   "source": [
    "cursor.execute(\"SELECT a.State_ANSI, a.Value FROM (SELECT State_ANSI, Value FROM cheese_production WHERE Year = 2023 AND Period = 'APR') as a where a.Value>100000000;\")\n",
    "table= cursor.fetchall()\n",
    "table"
   ]
  },
  {
   "cell_type": "code",
   "execution_count": 75,
   "id": "851192e1",
   "metadata": {},
   "outputs": [
    {
     "data": {
      "text/plain": [
       "[(7600000,)]"
      ]
     },
     "execution_count": 75,
     "metadata": {},
     "output_type": "execute_result"
    }
   ],
   "source": [
    "cursor.execute(\"SELECT SUM(Value) FROM coffee_production WHERE Year=2011;\")\n",
    "table= cursor.fetchall()\n",
    "table"
   ]
  },
  {
   "cell_type": "code",
   "execution_count": 57,
   "id": "2e02a190",
   "metadata": {},
   "outputs": [
    {
     "data": {
      "text/plain": [
       "[(3133275.0,)]"
      ]
     },
     "execution_count": 57,
     "metadata": {},
     "output_type": "execute_result"
    }
   ],
   "source": [
    "cursor.execute(\"SELECT AVG(Value) FROM honey_production WHERE Year = 2022;\")\n",
    "table= cursor.fetchall()\n",
    "table"
   ]
  },
  {
   "cell_type": "code",
   "execution_count": 73,
   "id": "fb5ad42a",
   "metadata": {},
   "outputs": [
    {
     "data": {
      "text/plain": [
       "[(12,)]"
      ]
     },
     "execution_count": 73,
     "metadata": {},
     "output_type": "execute_result"
    }
   ],
   "source": [
    "cursor.execute(\"SELECT State_ANSI FROM state_lookup WHERE State='FLORIDA';\")\n",
    "table= cursor.fetchall()\n",
    "table"
   ]
  },
  {
   "cell_type": "code",
   "execution_count": 83,
   "id": "3a74f58a",
   "metadata": {},
   "outputs": [
    {
     "data": {
      "text/plain": [
       "[(2069941000.0, 34)]"
      ]
     },
     "execution_count": 83,
     "metadata": {},
     "output_type": "execute_result"
    }
   ],
   "source": [
    "cursor.execute(\"SELECT total_value, State_ANSI FROM (SELECT sum(Value) as total_value, State_ANSI FROM cheese_production GROUP BY State_ANSI) as a WHERE State_ANSI in (SELECT State_ANSI FROM state_lookup WHERE State='NEW JERSEY');\")\n",
    "table= cursor.fetchall()\n",
    "table"
   ]
  },
  {
   "cell_type": "code",
   "execution_count": 62,
   "id": "ed8c3c4d",
   "metadata": {},
   "outputs": [
    {
     "data": {
      "text/plain": [
       "[(1171095000,)]"
      ]
     },
     "execution_count": 62,
     "metadata": {},
     "output_type": "execute_result"
    }
   ],
   "source": [
    "cursor.execute(\"SELECT SUM(Value) FROM yogurt_production WHERE Year=2022 and State_ANSI in (SELECT State_ANSI FROM cheese_production WHERE Year=2023);\")\n",
    "table= cursor.fetchall()\n",
    "table"
   ]
  },
  {
   "cell_type": "code",
   "execution_count": 64,
   "id": "bc13ea05",
   "metadata": {},
   "outputs": [
    {
     "data": {
      "text/plain": [
       "[(26,)]"
      ]
     },
     "execution_count": 64,
     "metadata": {},
     "output_type": "execute_result"
    }
   ],
   "source": [
    "cursor.execute(\"SELECT COUNT(State_ANSI) FROM state_lookup WHERE State_ANSI NOT IN (SELECT State_ANSI FROM milk_production WHERE Year=2023);\")\n",
    "table= cursor.fetchall()\n",
    "table"
   ]
  },
  {
   "cell_type": "code",
   "execution_count": 68,
   "id": "bf95ed41",
   "metadata": {},
   "outputs": [
    {
     "data": {
      "text/plain": [
       "[]"
      ]
     },
     "execution_count": 68,
     "metadata": {},
     "output_type": "execute_result"
    }
   ],
   "source": [
    "cursor.execute(\"SELECT * FROM cheese_production WHERE Year=2023 and State_ANSI in (SELECT State_ANSI FROM state_lookup WHERE State='DELAWARE');\")\n",
    "table= cursor.fetchall()\n",
    "table"
   ]
  },
  {
   "cell_type": "code",
   "execution_count": 72,
   "id": "356fed32",
   "metadata": {},
   "outputs": [
    {
     "data": {
      "text/plain": [
       "[(6426666.666666667,)]"
      ]
     },
     "execution_count": 72,
     "metadata": {},
     "output_type": "execute_result"
    }
   ],
   "source": [
    "cursor.execute(\"SELECT AVG(Value) FROM coffee_production WHERE Year in (SELECT Year FROM honey_production WHERE value>1000000);\")\n",
    "table= cursor.fetchall()\n",
    "table"
   ]
  }
 ],
 "metadata": {
  "kernelspec": {
   "display_name": ".venv",
   "language": "python",
   "name": "python3"
  },
  "language_info": {
   "codemirror_mode": {
    "name": "ipython",
    "version": 3
   },
   "file_extension": ".py",
   "mimetype": "text/x-python",
   "name": "python",
   "nbconvert_exporter": "python",
   "pygments_lexer": "ipython3",
   "version": "3.13.2"
  }
 },
 "nbformat": 4,
 "nbformat_minor": 5
}
